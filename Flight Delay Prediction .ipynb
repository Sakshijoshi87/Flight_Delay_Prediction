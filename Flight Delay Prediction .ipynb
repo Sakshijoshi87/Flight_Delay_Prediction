{
 "cells": [
  {
   "cell_type": "markdown",
   "id": "9bbfedd8",
   "metadata": {},
   "source": [
    "## Flight Delay Prediction"
   ]
  },
  {
   "cell_type": "markdown",
   "id": "98866847",
   "metadata": {},
   "source": [
    "### About the Dataset\n",
    "\n",
    "https://www.kaggle.com/datasets/rowhitswami/feb-2020-us-flight-delay/discussion?resource=download"
   ]
  },
  {
   "cell_type": "markdown",
   "id": "1e7479de",
   "metadata": {},
   "source": [
    "The dataset is been taken from kaggle.This Dataset is of US feb 2020 flight Delay.\n",
    "\n",
    "This Dataset includes following coloumns.\n",
    "\n",
    "1. MONTH:The month in which the flight was scheduled is listed in this column. for this particular dataset the month is february only.\n",
    "\n",
    "2. DAY_OF_MONTH:This column is listed with the values between 1 and 30. The day of month in which the flight is scheduled.\n",
    "\n",
    "3. DAY_OF_WEEK:This column is listed with the values between 1 and 6. The day of week in which the flight is scheduled.\n",
    "\n",
    "4. OP_UNIQUE_CARRIER: The flight carrier \n",
    "\n",
    "5. ORIGIN: From which City the flight is started.\n",
    "\n",
    "6. DEST: The city of arrival of a flight.\n",
    "\n",
    "7. DEP_TIME: Departure time of a flight.\n",
    "\n",
    "8. DEP_DEL15: Departure delay of flight which is max 15 mins.\n",
    "\n",
    "9. DISTANCE: Distance covered by the flight.\n"
   ]
  },
  {
   "cell_type": "markdown",
   "id": "def05a14",
   "metadata": {},
   "source": [
    "## Importing the Libraries"
   ]
  },
  {
   "cell_type": "code",
   "execution_count": 1,
   "id": "921f7a34",
   "metadata": {},
   "outputs": [],
   "source": [
    "import pandas as pd\n",
    "import numpy as np\n",
    "import seaborn as sns\n",
    "import matplotlib.pyplot as plt \n",
    "%matplotlib inline"
   ]
  },
  {
   "cell_type": "code",
   "execution_count": 2,
   "id": "a40defb5",
   "metadata": {},
   "outputs": [],
   "source": [
    "df = pd.read_csv('feb-20-us-flight-delay.csv') "
   ]
  },
  {
   "cell_type": "code",
   "execution_count": 3,
   "id": "362b545e",
   "metadata": {},
   "outputs": [
    {
     "data": {
      "text/html": [
       "<div>\n",
       "<style scoped>\n",
       "    .dataframe tbody tr th:only-of-type {\n",
       "        vertical-align: middle;\n",
       "    }\n",
       "\n",
       "    .dataframe tbody tr th {\n",
       "        vertical-align: top;\n",
       "    }\n",
       "\n",
       "    .dataframe thead th {\n",
       "        text-align: right;\n",
       "    }\n",
       "</style>\n",
       "<table border=\"1\" class=\"dataframe\">\n",
       "  <thead>\n",
       "    <tr style=\"text-align: right;\">\n",
       "      <th></th>\n",
       "      <th>MONTH</th>\n",
       "      <th>DAY_OF_MONTH</th>\n",
       "      <th>DAY_OF_WEEK</th>\n",
       "      <th>OP_UNIQUE_CARRIER</th>\n",
       "      <th>ORIGIN</th>\n",
       "      <th>DEST</th>\n",
       "      <th>DEP_TIME</th>\n",
       "      <th>DEP_DEL15</th>\n",
       "      <th>DISTANCE</th>\n",
       "      <th>Unnamed: 9</th>\n",
       "    </tr>\n",
       "  </thead>\n",
       "  <tbody>\n",
       "    <tr>\n",
       "      <th>0</th>\n",
       "      <td>2</td>\n",
       "      <td>1</td>\n",
       "      <td>6</td>\n",
       "      <td>MQ</td>\n",
       "      <td>CLT</td>\n",
       "      <td>LYH</td>\n",
       "      <td>1430.0</td>\n",
       "      <td>0.0</td>\n",
       "      <td>175.0</td>\n",
       "      <td>NaN</td>\n",
       "    </tr>\n",
       "    <tr>\n",
       "      <th>1</th>\n",
       "      <td>2</td>\n",
       "      <td>8</td>\n",
       "      <td>6</td>\n",
       "      <td>MQ</td>\n",
       "      <td>CLT</td>\n",
       "      <td>LYH</td>\n",
       "      <td>1442.0</td>\n",
       "      <td>0.0</td>\n",
       "      <td>175.0</td>\n",
       "      <td>NaN</td>\n",
       "    </tr>\n",
       "    <tr>\n",
       "      <th>2</th>\n",
       "      <td>2</td>\n",
       "      <td>13</td>\n",
       "      <td>4</td>\n",
       "      <td>MQ</td>\n",
       "      <td>DFW</td>\n",
       "      <td>SHV</td>\n",
       "      <td>2247.0</td>\n",
       "      <td>0.0</td>\n",
       "      <td>190.0</td>\n",
       "      <td>NaN</td>\n",
       "    </tr>\n",
       "    <tr>\n",
       "      <th>3</th>\n",
       "      <td>2</td>\n",
       "      <td>14</td>\n",
       "      <td>5</td>\n",
       "      <td>MQ</td>\n",
       "      <td>DFW</td>\n",
       "      <td>SHV</td>\n",
       "      <td>2230.0</td>\n",
       "      <td>0.0</td>\n",
       "      <td>190.0</td>\n",
       "      <td>NaN</td>\n",
       "    </tr>\n",
       "    <tr>\n",
       "      <th>4</th>\n",
       "      <td>2</td>\n",
       "      <td>15</td>\n",
       "      <td>6</td>\n",
       "      <td>MQ</td>\n",
       "      <td>DFW</td>\n",
       "      <td>SHV</td>\n",
       "      <td>2246.0</td>\n",
       "      <td>0.0</td>\n",
       "      <td>190.0</td>\n",
       "      <td>NaN</td>\n",
       "    </tr>\n",
       "  </tbody>\n",
       "</table>\n",
       "</div>"
      ],
      "text/plain": [
       "   MONTH  DAY_OF_MONTH  DAY_OF_WEEK OP_UNIQUE_CARRIER ORIGIN DEST  DEP_TIME  \\\n",
       "0      2             1            6                MQ    CLT  LYH    1430.0   \n",
       "1      2             8            6                MQ    CLT  LYH    1442.0   \n",
       "2      2            13            4                MQ    DFW  SHV    2247.0   \n",
       "3      2            14            5                MQ    DFW  SHV    2230.0   \n",
       "4      2            15            6                MQ    DFW  SHV    2246.0   \n",
       "\n",
       "   DEP_DEL15  DISTANCE  Unnamed: 9  \n",
       "0        0.0     175.0         NaN  \n",
       "1        0.0     175.0         NaN  \n",
       "2        0.0     190.0         NaN  \n",
       "3        0.0     190.0         NaN  \n",
       "4        0.0     190.0         NaN  "
      ]
     },
     "execution_count": 3,
     "metadata": {},
     "output_type": "execute_result"
    }
   ],
   "source": [
    "df.head()"
   ]
  },
  {
   "cell_type": "code",
   "execution_count": 4,
   "id": "b450b245",
   "metadata": {},
   "outputs": [
    {
     "name": "stdout",
     "output_type": "stream",
     "text": [
      "<class 'pandas.core.frame.DataFrame'>\n",
      "RangeIndex: 574268 entries, 0 to 574267\n",
      "Data columns (total 10 columns):\n",
      " #   Column             Non-Null Count   Dtype  \n",
      "---  ------             --------------   -----  \n",
      " 0   MONTH              574268 non-null  int64  \n",
      " 1   DAY_OF_MONTH       574268 non-null  int64  \n",
      " 2   DAY_OF_WEEK        574268 non-null  int64  \n",
      " 3   OP_UNIQUE_CARRIER  574268 non-null  object \n",
      " 4   ORIGIN             574268 non-null  object \n",
      " 5   DEST               574268 non-null  object \n",
      " 6   DEP_TIME           569330 non-null  float64\n",
      " 7   DEP_DEL15          569317 non-null  float64\n",
      " 8   DISTANCE           574268 non-null  float64\n",
      " 9   Unnamed: 9         0 non-null       float64\n",
      "dtypes: float64(4), int64(3), object(3)\n",
      "memory usage: 43.8+ MB\n"
     ]
    }
   ],
   "source": [
    "df.info()"
   ]
  },
  {
   "cell_type": "code",
   "execution_count": 5,
   "id": "11b5d981",
   "metadata": {},
   "outputs": [
    {
     "data": {
      "text/plain": [
       "MONTH                     0\n",
       "DAY_OF_MONTH              0\n",
       "DAY_OF_WEEK               0\n",
       "OP_UNIQUE_CARRIER         0\n",
       "ORIGIN                    0\n",
       "DEST                      0\n",
       "DEP_TIME               4938\n",
       "DEP_DEL15              4951\n",
       "DISTANCE                  0\n",
       "Unnamed: 9           574268\n",
       "dtype: int64"
      ]
     },
     "execution_count": 5,
     "metadata": {},
     "output_type": "execute_result"
    }
   ],
   "source": [
    "df.isna().sum()"
   ]
  },
  {
   "cell_type": "code",
   "execution_count": 6,
   "id": "7b3b30a9",
   "metadata": {},
   "outputs": [
    {
     "data": {
      "text/plain": [
       "<AxesSubplot:>"
      ]
     },
     "execution_count": 6,
     "metadata": {},
     "output_type": "execute_result"
    },
    {
     "data": {
      "image/png": "[encoded data removed]",
      "text/plain": [
       "<Figure size 432x288 with 2 Axes>"
      ]
     },
     "metadata": {
      "needs_background": "light"
     },
     "output_type": "display_data"
    }
   ],
   "source": [
    "sns.heatmap(df.isnull(),yticklabels=False,cmap='viridis')"
   ]
  },
  {
   "cell_type": "code",
   "execution_count": 7,
   "id": "7764be2b",
   "metadata": {},
   "outputs": [],
   "source": [
    "del df['Unnamed: 9']"
   ]
  },
  {
   "cell_type": "code",
   "execution_count": 8,
   "id": "062e8308",
   "metadata": {},
   "outputs": [
    {
     "data": {
      "text/html": [
       "<div>\n",
       "<style scoped>\n",
       "    .dataframe tbody tr th:only-of-type {\n",
       "        vertical-align: middle;\n",
       "    }\n",
       "\n",
       "    .dataframe tbody tr th {\n",
       "        vertical-align: top;\n",
       "    }\n",
       "\n",
       "    .dataframe thead th {\n",
       "        text-align: right;\n",
       "    }\n",
       "</style>\n",
       "<table border=\"1\" class=\"dataframe\">\n",
       "  <thead>\n",
       "    <tr style=\"text-align: right;\">\n",
       "      <th></th>\n",
       "      <th>MONTH</th>\n",
       "      <th>DAY_OF_MONTH</th>\n",
       "      <th>DAY_OF_WEEK</th>\n",
       "      <th>OP_UNIQUE_CARRIER</th>\n",
       "      <th>ORIGIN</th>\n",
       "      <th>DEST</th>\n",
       "      <th>DEP_TIME</th>\n",
       "      <th>DEP_DEL15</th>\n",
       "      <th>DISTANCE</th>\n",
       "    </tr>\n",
       "  </thead>\n",
       "  <tbody>\n",
       "    <tr>\n",
       "      <th>0</th>\n",
       "      <td>2</td>\n",
       "      <td>1</td>\n",
       "      <td>6</td>\n",
       "      <td>MQ</td>\n",
       "      <td>CLT</td>\n",
       "      <td>LYH</td>\n",
       "      <td>1430.0</td>\n",
       "      <td>0.0</td>\n",
       "      <td>175.0</td>\n",
       "    </tr>\n",
       "    <tr>\n",
       "      <th>1</th>\n",
       "      <td>2</td>\n",
       "      <td>8</td>\n",
       "      <td>6</td>\n",
       "      <td>MQ</td>\n",
       "      <td>CLT</td>\n",
       "      <td>LYH</td>\n",
       "      <td>1442.0</td>\n",
       "      <td>0.0</td>\n",
       "      <td>175.0</td>\n",
       "    </tr>\n",
       "    <tr>\n",
       "      <th>2</th>\n",
       "      <td>2</td>\n",
       "      <td>13</td>\n",
       "      <td>4</td>\n",
       "      <td>MQ</td>\n",
       "      <td>DFW</td>\n",
       "      <td>SHV</td>\n",
       "      <td>2247.0</td>\n",
       "      <td>0.0</td>\n",
       "      <td>190.0</td>\n",
       "    </tr>\n",
       "    <tr>\n",
       "      <th>3</th>\n",
       "      <td>2</td>\n",
       "      <td>14</td>\n",
       "      <td>5</td>\n",
       "      <td>MQ</td>\n",
       "      <td>DFW</td>\n",
       "      <td>SHV</td>\n",
       "      <td>2230.0</td>\n",
       "      <td>0.0</td>\n",
       "      <td>190.0</td>\n",
       "    </tr>\n",
       "    <tr>\n",
       "      <th>4</th>\n",
       "      <td>2</td>\n",
       "      <td>15</td>\n",
       "      <td>6</td>\n",
       "      <td>MQ</td>\n",
       "      <td>DFW</td>\n",
       "      <td>SHV</td>\n",
       "      <td>2246.0</td>\n",
       "      <td>0.0</td>\n",
       "      <td>190.0</td>\n",
       "    </tr>\n",
       "  </tbody>\n",
       "</table>\n",
       "</div>"
      ],
      "text/plain": [
       "   MONTH  DAY_OF_MONTH  DAY_OF_WEEK OP_UNIQUE_CARRIER ORIGIN DEST  DEP_TIME  \\\n",
       "0      2             1            6                MQ    CLT  LYH    1430.0   \n",
       "1      2             8            6                MQ    CLT  LYH    1442.0   \n",
       "2      2            13            4                MQ    DFW  SHV    2247.0   \n",
       "3      2            14            5                MQ    DFW  SHV    2230.0   \n",
       "4      2            15            6                MQ    DFW  SHV    2246.0   \n",
       "\n",
       "   DEP_DEL15  DISTANCE  \n",
       "0        0.0     175.0  \n",
       "1        0.0     175.0  \n",
       "2        0.0     190.0  \n",
       "3        0.0     190.0  \n",
       "4        0.0     190.0  "
      ]
     },
     "execution_count": 8,
     "metadata": {},
     "output_type": "execute_result"
    }
   ],
   "source": [
    "df.head()"
   ]
  },
  {
   "cell_type": "code",
   "execution_count": 9,
   "id": "8d1be55a",
   "metadata": {},
   "outputs": [
    {
     "data": {
      "text/plain": [
       "0.8598772698461346"
      ]
     },
     "execution_count": 9,
     "metadata": {},
     "output_type": "execute_result"
    }
   ],
   "source": [
    "(df.count()[0] - df['DEP_TIME'].count()) * 100/ df.count()[0]"
   ]
  },
  {
   "cell_type": "code",
   "execution_count": 10,
   "id": "d1af7cec",
   "metadata": {},
   "outputs": [
    {
     "data": {
      "text/plain": [
       "0    555.0\n",
       "dtype: float64"
      ]
     },
     "execution_count": 10,
     "metadata": {},
     "output_type": "execute_result"
    }
   ],
   "source": [
    "df['DEP_TIME'].mode()"
   ]
  },
  {
   "cell_type": "markdown",
   "id": "956ccc28",
   "metadata": {},
   "source": [
    "#### The count of Null values is actually less than a percent of the dataset so in this particular case, I'm dropping them otherwise if the proportion would've been more than around 7% or so, I would've imputed the missing values with the mode value of that feature as shown above."
   ]
  },
  {
   "cell_type": "code",
   "execution_count": 11,
   "id": "bca17e8d",
   "metadata": {},
   "outputs": [],
   "source": [
    "df.dropna(inplace=True)"
   ]
  },
  {
   "cell_type": "code",
   "execution_count": 12,
   "id": "1e5a78b8",
   "metadata": {},
   "outputs": [
    {
     "data": {
      "text/plain": [
       "MONTH                0\n",
       "DAY_OF_MONTH         0\n",
       "DAY_OF_WEEK          0\n",
       "OP_UNIQUE_CARRIER    0\n",
       "ORIGIN               0\n",
       "DEST                 0\n",
       "DEP_TIME             0\n",
       "DEP_DEL15            0\n",
       "DISTANCE             0\n",
       "dtype: int64"
      ]
     },
     "execution_count": 12,
     "metadata": {},
     "output_type": "execute_result"
    }
   ],
   "source": [
    "df.isna().sum()"
   ]
  },
  {
   "cell_type": "code",
   "execution_count": 13,
   "id": "4214dada",
   "metadata": {},
   "outputs": [
    {
     "data": {
      "text/plain": [
       "0.0    487135\n",
       "1.0     82182\n",
       "Name: DEP_DEL15, dtype: int64"
      ]
     },
     "execution_count": 13,
     "metadata": {},
     "output_type": "execute_result"
    }
   ],
   "source": [
    "df['DEP_DEL15'].value_counts()"
   ]
  },
  {
   "cell_type": "markdown",
   "id": "1eed0f98",
   "metadata": {},
   "source": [
    "### Exploratory Data Analysis"
   ]
  },
  {
   "cell_type": "code",
   "execution_count": 14,
   "id": "39b7b684",
   "metadata": {},
   "outputs": [
    {
     "data": {
      "text/plain": [
       "<AxesSubplot:xlabel='DEP_DEL15', ylabel='count'>"
      ]
     },
     "execution_count": 14,
     "metadata": {},
     "output_type": "execute_result"
    },
    {
     "data": {
      "image/png": "[encoded data removed]",
      "text/plain": [
       "<Figure size 432x288 with 1 Axes>"
      ]
     },
     "metadata": {
      "needs_background": "light"
     },
     "output_type": "display_data"
    }
   ],
   "source": [
    "sns.countplot(x='DEP_DEL15', data =df)"
   ]
  },
  {
   "cell_type": "markdown",
   "id": "44936641",
   "metadata": {},
   "source": [
    "Most flight delays were for less than 15 mins"
   ]
  },
  {
   "cell_type": "code",
   "execution_count": 15,
   "id": "ec5956ba",
   "metadata": {},
   "outputs": [
    {
     "data": {
      "text/plain": [
       "<AxesSubplot:xlabel='DAY_OF_WEEK', ylabel='count'>"
      ]
     },
     "execution_count": 15,
     "metadata": {},
     "output_type": "execute_result"
    },
    {
     "data": {
      "image/png": "[encoded data removed]",
      "text/plain": [
       "<Figure size 432x288 with 1 Axes>"
      ]
     },
     "metadata": {
      "needs_background": "light"
     },
     "output_type": "display_data"
    }
   ],
   "source": [
    "sns.countplot(x='DAY_OF_WEEK', hue=\"DEP_DEL15\",data=df)"
   ]
  },
  {
   "cell_type": "markdown",
   "id": "043912c0",
   "metadata": {},
   "source": [
    "Most flight delays were on the fourth day of the week and least were on the 2nd day "
   ]
  },
  {
   "cell_type": "code",
   "execution_count": 16,
   "id": "76dd6c74",
   "metadata": {},
   "outputs": [
    {
     "data": {
      "text/plain": [
       "<AxesSubplot:xlabel='OP_UNIQUE_CARRIER', ylabel='count'>"
      ]
     },
     "execution_count": 16,
     "metadata": {},
     "output_type": "execute_result"
    },
    {
     "data": {
      "image/png": "[encoded data removed]",
      "text/plain": [
       "<Figure size 432x288 with 1 Axes>"
      ]
     },
     "metadata": {
      "needs_background": "light"
     },
     "output_type": "display_data"
    }
   ],
   "source": [
    "sns.countplot(x='OP_UNIQUE_CARRIER', hue='DEP_DEL15', data=df)"
   ]
  },
  {
   "cell_type": "markdown",
   "id": "1ed9a68a",
   "metadata": {},
   "source": [
    "Most flight delays were caused by the carriers WN and AA"
   ]
  },
  {
   "cell_type": "markdown",
   "id": "607d8012",
   "metadata": {},
   "source": [
    "Calculating Unique values"
   ]
  },
  {
   "cell_type": "code",
   "execution_count": 17,
   "id": "6d3c030b",
   "metadata": {},
   "outputs": [
    {
     "data": {
      "text/plain": [
       "MONTH                   1\n",
       "DAY_OF_MONTH           29\n",
       "DAY_OF_WEEK             7\n",
       "OP_UNIQUE_CARRIER      17\n",
       "ORIGIN                350\n",
       "DEST                  350\n",
       "DEP_TIME             1428\n",
       "DEP_DEL15               2\n",
       "DISTANCE             1443\n",
       "dtype: int64"
      ]
     },
     "execution_count": 17,
     "metadata": {},
     "output_type": "execute_result"
    }
   ],
   "source": [
    "df.nunique()"
   ]
  },
  {
   "cell_type": "markdown",
   "id": "22a14f74",
   "metadata": {},
   "source": [
    "### Performing One Hot Encoding !!"
   ]
  },
  {
   "cell_type": "code",
   "execution_count": 18,
   "id": "e6e630b4",
   "metadata": {},
   "outputs": [
    {
     "data": {
      "text/plain": [
       "(569317, 9)"
      ]
     },
     "execution_count": 18,
     "metadata": {},
     "output_type": "execute_result"
    }
   ],
   "source": [
    "df.shape"
   ]
  },
  {
   "cell_type": "code",
   "execution_count": 19,
   "id": "18021862",
   "metadata": {},
   "outputs": [
    {
     "data": {
      "text/plain": [
       "array(['MQ', 'YV', 'OH', 'HA', 'AA', 'WN', 'G4', 'NK', 'YX', 'UA', 'OO',\n",
       "       'AS', 'DL', 'B6', 'EV', '9E', 'F9'], dtype=object)"
      ]
     },
     "execution_count": 19,
     "metadata": {},
     "output_type": "execute_result"
    }
   ],
   "source": [
    "df['OP_UNIQUE_CARRIER'].unique()"
   ]
  },
  {
   "cell_type": "code",
   "execution_count": 20,
   "id": "388b0a53",
   "metadata": {},
   "outputs": [],
   "source": [
    "data = pd.get_dummies(df,drop_first=True)"
   ]
  },
  {
   "cell_type": "code",
   "execution_count": 21,
   "id": "9e4c5a25",
   "metadata": {},
   "outputs": [],
   "source": [
    "new_df = data[['MONTH', 'DAY_OF_MONTH', 'DAY_OF_WEEK', 'DEP_TIME','DEP_DEL15',\n",
    "       'DISTANCE','OP_UNIQUE_CARRIER_MQ','OP_UNIQUE_CARRIER_YV', 'OP_UNIQUE_CARRIER_OH',\n",
    "        'OP_UNIQUE_CARRIER_HA', 'OP_UNIQUE_CARRIER_AA', 'OP_UNIQUE_CARRIER_WN', 'OP_UNIQUE_CARRIER_G4','OP_UNIQUE_CARRIER_NK', 'OP_UNIQUE_CARRIER_YX', 'OP_UNIQUE_CARRIER_UA', 'OP_UNIQUE_CARRIER_OO',\n",
    "       'OP_UNIQUE_CARRIER_AS', 'OP_UNIQUE_CARRIER_DL', 'OP_UNIQUE_CARRIER_B6', 'OP_UNIQUE_CARRIER_EV',\n",
    "         'OP_UNIQUE_CARRIER_F9','ORIGIN_ATL','ORIGIN_ORD','ORIGIN_DFW','ORIGIN_DEN',\n",
    "         'ORIGIN_CLT','ORIGIN_LAX','ORIGIN_PHX','ORIGIN_IAH','DEST_ATL','DEST_ORD','DEST_DFW','DEST_DEN',\n",
    "         'DEST_CLT','DEST_LAX','DEST_PHX','DEST_IAH']]"
   ]
  },
  {
   "cell_type": "markdown",
   "id": "e26bcf5e",
   "metadata": {},
   "source": [
    "## Building the Model"
   ]
  },
  {
   "cell_type": "code",
   "execution_count": 22,
   "id": "18312940",
   "metadata": {},
   "outputs": [],
   "source": [
    "from sklearn.model_selection import train_test_split\n",
    "from sklearn.ensemble import RandomForestClassifier"
   ]
  },
  {
   "cell_type": "code",
   "execution_count": 23,
   "id": "cdad9c31",
   "metadata": {},
   "outputs": [],
   "source": [
    "model=RandomForestClassifier(n_estimators=100)"
   ]
  },
  {
   "cell_type": "code",
   "execution_count": 24,
   "id": "3cf0782a",
   "metadata": {},
   "outputs": [],
   "source": [
    "X=(new_df.drop('DEP_DEL15',axis=1))\n",
    "y= new_df['DEP_DEL15']"
   ]
  },
  {
   "cell_type": "code",
   "execution_count": 25,
   "id": "18f2b652",
   "metadata": {},
   "outputs": [
    {
     "data": {
      "text/html": [
       "<div>\n",
       "<style scoped>\n",
       "    .dataframe tbody tr th:only-of-type {\n",
       "        vertical-align: middle;\n",
       "    }\n",
       "\n",
       "    .dataframe tbody tr th {\n",
       "        vertical-align: top;\n",
       "    }\n",
       "\n",
       "    .dataframe thead th {\n",
       "        text-align: right;\n",
       "    }\n",
       "</style>\n",
       "<table border=\"1\" class=\"dataframe\">\n",
       "  <thead>\n",
       "    <tr style=\"text-align: right;\">\n",
       "      <th></th>\n",
       "      <th>MONTH</th>\n",
       "      <th>DAY_OF_MONTH</th>\n",
       "      <th>DAY_OF_WEEK</th>\n",
       "      <th>DEP_TIME</th>\n",
       "      <th>DISTANCE</th>\n",
       "      <th>OP_UNIQUE_CARRIER_MQ</th>\n",
       "      <th>OP_UNIQUE_CARRIER_YV</th>\n",
       "      <th>OP_UNIQUE_CARRIER_OH</th>\n",
       "      <th>OP_UNIQUE_CARRIER_HA</th>\n",
       "      <th>OP_UNIQUE_CARRIER_AA</th>\n",
       "      <th>...</th>\n",
       "      <th>ORIGIN_PHX</th>\n",
       "      <th>ORIGIN_IAH</th>\n",
       "      <th>DEST_ATL</th>\n",
       "      <th>DEST_ORD</th>\n",
       "      <th>DEST_DFW</th>\n",
       "      <th>DEST_DEN</th>\n",
       "      <th>DEST_CLT</th>\n",
       "      <th>DEST_LAX</th>\n",
       "      <th>DEST_PHX</th>\n",
       "      <th>DEST_IAH</th>\n",
       "    </tr>\n",
       "  </thead>\n",
       "  <tbody>\n",
       "    <tr>\n",
       "      <th>0</th>\n",
       "      <td>2</td>\n",
       "      <td>1</td>\n",
       "      <td>6</td>\n",
       "      <td>1430.0</td>\n",
       "      <td>175.0</td>\n",
       "      <td>1</td>\n",
       "      <td>0</td>\n",
       "      <td>0</td>\n",
       "      <td>0</td>\n",
       "      <td>0</td>\n",
       "      <td>...</td>\n",
       "      <td>0</td>\n",
       "      <td>0</td>\n",
       "      <td>0</td>\n",
       "      <td>0</td>\n",
       "      <td>0</td>\n",
       "      <td>0</td>\n",
       "      <td>0</td>\n",
       "      <td>0</td>\n",
       "      <td>0</td>\n",
       "      <td>0</td>\n",
       "    </tr>\n",
       "    <tr>\n",
       "      <th>1</th>\n",
       "      <td>2</td>\n",
       "      <td>8</td>\n",
       "      <td>6</td>\n",
       "      <td>1442.0</td>\n",
       "      <td>175.0</td>\n",
       "      <td>1</td>\n",
       "      <td>0</td>\n",
       "      <td>0</td>\n",
       "      <td>0</td>\n",
       "      <td>0</td>\n",
       "      <td>...</td>\n",
       "      <td>0</td>\n",
       "      <td>0</td>\n",
       "      <td>0</td>\n",
       "      <td>0</td>\n",
       "      <td>0</td>\n",
       "      <td>0</td>\n",
       "      <td>0</td>\n",
       "      <td>0</td>\n",
       "      <td>0</td>\n",
       "      <td>0</td>\n",
       "    </tr>\n",
       "    <tr>\n",
       "      <th>2</th>\n",
       "      <td>2</td>\n",
       "      <td>13</td>\n",
       "      <td>4</td>\n",
       "      <td>2247.0</td>\n",
       "      <td>190.0</td>\n",
       "      <td>1</td>\n",
       "      <td>0</td>\n",
       "      <td>0</td>\n",
       "      <td>0</td>\n",
       "      <td>0</td>\n",
       "      <td>...</td>\n",
       "      <td>0</td>\n",
       "      <td>0</td>\n",
       "      <td>0</td>\n",
       "      <td>0</td>\n",
       "      <td>0</td>\n",
       "      <td>0</td>\n",
       "      <td>0</td>\n",
       "      <td>0</td>\n",
       "      <td>0</td>\n",
       "      <td>0</td>\n",
       "    </tr>\n",
       "    <tr>\n",
       "      <th>3</th>\n",
       "      <td>2</td>\n",
       "      <td>14</td>\n",
       "      <td>5</td>\n",
       "      <td>2230.0</td>\n",
       "      <td>190.0</td>\n",
       "      <td>1</td>\n",
       "      <td>0</td>\n",
       "      <td>0</td>\n",
       "      <td>0</td>\n",
       "      <td>0</td>\n",
       "      <td>...</td>\n",
       "      <td>0</td>\n",
       "      <td>0</td>\n",
       "      <td>0</td>\n",
       "      <td>0</td>\n",
       "      <td>0</td>\n",
       "      <td>0</td>\n",
       "      <td>0</td>\n",
       "      <td>0</td>\n",
       "      <td>0</td>\n",
       "      <td>0</td>\n",
       "    </tr>\n",
       "    <tr>\n",
       "      <th>4</th>\n",
       "      <td>2</td>\n",
       "      <td>15</td>\n",
       "      <td>6</td>\n",
       "      <td>2246.0</td>\n",
       "      <td>190.0</td>\n",
       "      <td>1</td>\n",
       "      <td>0</td>\n",
       "      <td>0</td>\n",
       "      <td>0</td>\n",
       "      <td>0</td>\n",
       "      <td>...</td>\n",
       "      <td>0</td>\n",
       "      <td>0</td>\n",
       "      <td>0</td>\n",
       "      <td>0</td>\n",
       "      <td>0</td>\n",
       "      <td>0</td>\n",
       "      <td>0</td>\n",
       "      <td>0</td>\n",
       "      <td>0</td>\n",
       "      <td>0</td>\n",
       "    </tr>\n",
       "    <tr>\n",
       "      <th>...</th>\n",
       "      <td>...</td>\n",
       "      <td>...</td>\n",
       "      <td>...</td>\n",
       "      <td>...</td>\n",
       "      <td>...</td>\n",
       "      <td>...</td>\n",
       "      <td>...</td>\n",
       "      <td>...</td>\n",
       "      <td>...</td>\n",
       "      <td>...</td>\n",
       "      <td>...</td>\n",
       "      <td>...</td>\n",
       "      <td>...</td>\n",
       "      <td>...</td>\n",
       "      <td>...</td>\n",
       "      <td>...</td>\n",
       "      <td>...</td>\n",
       "      <td>...</td>\n",
       "      <td>...</td>\n",
       "      <td>...</td>\n",
       "      <td>...</td>\n",
       "    </tr>\n",
       "    <tr>\n",
       "      <th>574263</th>\n",
       "      <td>2</td>\n",
       "      <td>27</td>\n",
       "      <td>4</td>\n",
       "      <td>2226.0</td>\n",
       "      <td>444.0</td>\n",
       "      <td>0</td>\n",
       "      <td>0</td>\n",
       "      <td>0</td>\n",
       "      <td>0</td>\n",
       "      <td>0</td>\n",
       "      <td>...</td>\n",
       "      <td>0</td>\n",
       "      <td>0</td>\n",
       "      <td>0</td>\n",
       "      <td>0</td>\n",
       "      <td>0</td>\n",
       "      <td>0</td>\n",
       "      <td>0</td>\n",
       "      <td>0</td>\n",
       "      <td>0</td>\n",
       "      <td>0</td>\n",
       "    </tr>\n",
       "    <tr>\n",
       "      <th>574264</th>\n",
       "      <td>2</td>\n",
       "      <td>27</td>\n",
       "      <td>4</td>\n",
       "      <td>737.0</td>\n",
       "      <td>577.0</td>\n",
       "      <td>0</td>\n",
       "      <td>0</td>\n",
       "      <td>0</td>\n",
       "      <td>0</td>\n",
       "      <td>0</td>\n",
       "      <td>...</td>\n",
       "      <td>0</td>\n",
       "      <td>0</td>\n",
       "      <td>0</td>\n",
       "      <td>0</td>\n",
       "      <td>0</td>\n",
       "      <td>0</td>\n",
       "      <td>0</td>\n",
       "      <td>0</td>\n",
       "      <td>0</td>\n",
       "      <td>0</td>\n",
       "    </tr>\n",
       "    <tr>\n",
       "      <th>574265</th>\n",
       "      <td>2</td>\n",
       "      <td>27</td>\n",
       "      <td>4</td>\n",
       "      <td>1026.0</td>\n",
       "      <td>577.0</td>\n",
       "      <td>0</td>\n",
       "      <td>0</td>\n",
       "      <td>0</td>\n",
       "      <td>0</td>\n",
       "      <td>0</td>\n",
       "      <td>...</td>\n",
       "      <td>0</td>\n",
       "      <td>0</td>\n",
       "      <td>1</td>\n",
       "      <td>0</td>\n",
       "      <td>0</td>\n",
       "      <td>0</td>\n",
       "      <td>0</td>\n",
       "      <td>0</td>\n",
       "      <td>0</td>\n",
       "      <td>0</td>\n",
       "    </tr>\n",
       "    <tr>\n",
       "      <th>574266</th>\n",
       "      <td>2</td>\n",
       "      <td>27</td>\n",
       "      <td>4</td>\n",
       "      <td>1008.0</td>\n",
       "      <td>907.0</td>\n",
       "      <td>0</td>\n",
       "      <td>0</td>\n",
       "      <td>0</td>\n",
       "      <td>0</td>\n",
       "      <td>0</td>\n",
       "      <td>...</td>\n",
       "      <td>0</td>\n",
       "      <td>0</td>\n",
       "      <td>1</td>\n",
       "      <td>0</td>\n",
       "      <td>0</td>\n",
       "      <td>0</td>\n",
       "      <td>0</td>\n",
       "      <td>0</td>\n",
       "      <td>0</td>\n",
       "      <td>0</td>\n",
       "    </tr>\n",
       "    <tr>\n",
       "      <th>574267</th>\n",
       "      <td>2</td>\n",
       "      <td>27</td>\n",
       "      <td>4</td>\n",
       "      <td>1122.0</td>\n",
       "      <td>1298.0</td>\n",
       "      <td>0</td>\n",
       "      <td>0</td>\n",
       "      <td>0</td>\n",
       "      <td>0</td>\n",
       "      <td>0</td>\n",
       "      <td>...</td>\n",
       "      <td>0</td>\n",
       "      <td>0</td>\n",
       "      <td>0</td>\n",
       "      <td>0</td>\n",
       "      <td>0</td>\n",
       "      <td>0</td>\n",
       "      <td>0</td>\n",
       "      <td>0</td>\n",
       "      <td>0</td>\n",
       "      <td>0</td>\n",
       "    </tr>\n",
       "  </tbody>\n",
       "</table>\n",
       "<p>569317 rows × 37 columns</p>\n",
       "</div>"
      ],
      "text/plain": [
       "        MONTH  DAY_OF_MONTH  DAY_OF_WEEK  DEP_TIME  DISTANCE  \\\n",
       "0           2             1            6    1430.0     175.0   \n",
       "1           2             8            6    1442.0     175.0   \n",
       "2           2            13            4    2247.0     190.0   \n",
       "3           2            14            5    2230.0     190.0   \n",
       "4           2            15            6    2246.0     190.0   \n",
       "...       ...           ...          ...       ...       ...   \n",
       "574263      2            27            4    2226.0     444.0   \n",
       "574264      2            27            4     737.0     577.0   \n",
       "574265      2            27            4    1026.0     577.0   \n",
       "574266      2            27            4    1008.0     907.0   \n",
       "574267      2            27            4    1122.0    1298.0   \n",
       "\n",
       "        OP_UNIQUE_CARRIER_MQ  OP_UNIQUE_CARRIER_YV  OP_UNIQUE_CARRIER_OH  \\\n",
       "0                          1                     0                     0   \n",
       "1                          1                     0                     0   \n",
       "2                          1                     0                     0   \n",
       "3                          1                     0                     0   \n",
       "4                          1                     0                     0   \n",
       "...                      ...                   ...                   ...   \n",
       "574263                     0                     0                     0   \n",
       "574264                     0                     0                     0   \n",
       "574265                     0                     0                     0   \n",
       "574266                     0                     0                     0   \n",
       "574267                     0                     0                     0   \n",
       "\n",
       "        OP_UNIQUE_CARRIER_HA  OP_UNIQUE_CARRIER_AA  ...  ORIGIN_PHX  \\\n",
       "0                          0                     0  ...           0   \n",
       "1                          0                     0  ...           0   \n",
       "2                          0                     0  ...           0   \n",
       "3                          0                     0  ...           0   \n",
       "4                          0                     0  ...           0   \n",
       "...                      ...                   ...  ...         ...   \n",
       "574263                     0                     0  ...           0   \n",
       "574264                     0                     0  ...           0   \n",
       "574265                     0                     0  ...           0   \n",
       "574266                     0                     0  ...           0   \n",
       "574267                     0                     0  ...           0   \n",
       "\n",
       "        ORIGIN_IAH  DEST_ATL  DEST_ORD  DEST_DFW  DEST_DEN  DEST_CLT  \\\n",
       "0                0         0         0         0         0         0   \n",
       "1                0         0         0         0         0         0   \n",
       "2                0         0         0         0         0         0   \n",
       "3                0         0         0         0         0         0   \n",
       "4                0         0         0         0         0         0   \n",
       "...            ...       ...       ...       ...       ...       ...   \n",
       "574263           0         0         0         0         0         0   \n",
       "574264           0         0         0         0         0         0   \n",
       "574265           0         1         0         0         0         0   \n",
       "574266           0         1         0         0         0         0   \n",
       "574267           0         0         0         0         0         0   \n",
       "\n",
       "        DEST_LAX  DEST_PHX  DEST_IAH  \n",
       "0              0         0         0  \n",
       "1              0         0         0  \n",
       "2              0         0         0  \n",
       "3              0         0         0  \n",
       "4              0         0         0  \n",
       "...          ...       ...       ...  \n",
       "574263         0         0         0  \n",
       "574264         0         0         0  \n",
       "574265         0         0         0  \n",
       "574266         0         0         0  \n",
       "574267         0         0         0  \n",
       "\n",
       "[569317 rows x 37 columns]"
      ]
     },
     "execution_count": 25,
     "metadata": {},
     "output_type": "execute_result"
    }
   ],
   "source": [
    "X"
   ]
  },
  {
   "cell_type": "code",
   "execution_count": 26,
   "id": "02818ab0",
   "metadata": {},
   "outputs": [
    {
     "data": {
      "text/plain": [
       "0         0.0\n",
       "1         0.0\n",
       "2         0.0\n",
       "3         0.0\n",
       "4         0.0\n",
       "         ... \n",
       "574263    0.0\n",
       "574264    0.0\n",
       "574265    0.0\n",
       "574266    0.0\n",
       "574267    0.0\n",
       "Name: DEP_DEL15, Length: 569317, dtype: float64"
      ]
     },
     "execution_count": 26,
     "metadata": {},
     "output_type": "execute_result"
    }
   ],
   "source": [
    "y"
   ]
  },
  {
   "cell_type": "code",
   "execution_count": 27,
   "id": "39e1ef91",
   "metadata": {},
   "outputs": [],
   "source": [
    "X_train,X_test,y_train,y_test=train_test_split(X,y,test_size=0.25)"
   ]
  },
  {
   "cell_type": "code",
   "execution_count": 28,
   "id": "d955c9bf",
   "metadata": {},
   "outputs": [
    {
     "data": {
      "text/html": [
       "<div>\n",
       "<style scoped>\n",
       "    .dataframe tbody tr th:only-of-type {\n",
       "        vertical-align: middle;\n",
       "    }\n",
       "\n",
       "    .dataframe tbody tr th {\n",
       "        vertical-align: top;\n",
       "    }\n",
       "\n",
       "    .dataframe thead th {\n",
       "        text-align: right;\n",
       "    }\n",
       "</style>\n",
       "<table border=\"1\" class=\"dataframe\">\n",
       "  <thead>\n",
       "    <tr style=\"text-align: right;\">\n",
       "      <th></th>\n",
       "      <th>MONTH</th>\n",
       "      <th>DAY_OF_MONTH</th>\n",
       "      <th>DAY_OF_WEEK</th>\n",
       "      <th>DEP_TIME</th>\n",
       "      <th>DISTANCE</th>\n",
       "      <th>OP_UNIQUE_CARRIER_MQ</th>\n",
       "      <th>OP_UNIQUE_CARRIER_YV</th>\n",
       "      <th>OP_UNIQUE_CARRIER_OH</th>\n",
       "      <th>OP_UNIQUE_CARRIER_HA</th>\n",
       "      <th>OP_UNIQUE_CARRIER_AA</th>\n",
       "      <th>...</th>\n",
       "      <th>ORIGIN_PHX</th>\n",
       "      <th>ORIGIN_IAH</th>\n",
       "      <th>DEST_ATL</th>\n",
       "      <th>DEST_ORD</th>\n",
       "      <th>DEST_DFW</th>\n",
       "      <th>DEST_DEN</th>\n",
       "      <th>DEST_CLT</th>\n",
       "      <th>DEST_LAX</th>\n",
       "      <th>DEST_PHX</th>\n",
       "      <th>DEST_IAH</th>\n",
       "    </tr>\n",
       "  </thead>\n",
       "  <tbody>\n",
       "    <tr>\n",
       "      <th>54244</th>\n",
       "      <td>2</td>\n",
       "      <td>24</td>\n",
       "      <td>1</td>\n",
       "      <td>1856.0</td>\n",
       "      <td>833.0</td>\n",
       "      <td>0</td>\n",
       "      <td>0</td>\n",
       "      <td>0</td>\n",
       "      <td>0</td>\n",
       "      <td>0</td>\n",
       "      <td>...</td>\n",
       "      <td>0</td>\n",
       "      <td>0</td>\n",
       "      <td>0</td>\n",
       "      <td>0</td>\n",
       "      <td>0</td>\n",
       "      <td>0</td>\n",
       "      <td>0</td>\n",
       "      <td>0</td>\n",
       "      <td>1</td>\n",
       "      <td>0</td>\n",
       "    </tr>\n",
       "    <tr>\n",
       "      <th>256362</th>\n",
       "      <td>2</td>\n",
       "      <td>22</td>\n",
       "      <td>6</td>\n",
       "      <td>458.0</td>\n",
       "      <td>639.0</td>\n",
       "      <td>0</td>\n",
       "      <td>0</td>\n",
       "      <td>0</td>\n",
       "      <td>0</td>\n",
       "      <td>0</td>\n",
       "      <td>...</td>\n",
       "      <td>0</td>\n",
       "      <td>0</td>\n",
       "      <td>0</td>\n",
       "      <td>0</td>\n",
       "      <td>0</td>\n",
       "      <td>1</td>\n",
       "      <td>0</td>\n",
       "      <td>0</td>\n",
       "      <td>0</td>\n",
       "      <td>0</td>\n",
       "    </tr>\n",
       "    <tr>\n",
       "      <th>153314</th>\n",
       "      <td>2</td>\n",
       "      <td>18</td>\n",
       "      <td>2</td>\n",
       "      <td>2327.0</td>\n",
       "      <td>1062.0</td>\n",
       "      <td>0</td>\n",
       "      <td>0</td>\n",
       "      <td>0</td>\n",
       "      <td>0</td>\n",
       "      <td>0</td>\n",
       "      <td>...</td>\n",
       "      <td>0</td>\n",
       "      <td>0</td>\n",
       "      <td>0</td>\n",
       "      <td>0</td>\n",
       "      <td>0</td>\n",
       "      <td>0</td>\n",
       "      <td>0</td>\n",
       "      <td>0</td>\n",
       "      <td>0</td>\n",
       "      <td>0</td>\n",
       "    </tr>\n",
       "    <tr>\n",
       "      <th>475238</th>\n",
       "      <td>2</td>\n",
       "      <td>7</td>\n",
       "      <td>5</td>\n",
       "      <td>1422.0</td>\n",
       "      <td>1235.0</td>\n",
       "      <td>0</td>\n",
       "      <td>0</td>\n",
       "      <td>0</td>\n",
       "      <td>0</td>\n",
       "      <td>0</td>\n",
       "      <td>...</td>\n",
       "      <td>0</td>\n",
       "      <td>0</td>\n",
       "      <td>0</td>\n",
       "      <td>0</td>\n",
       "      <td>0</td>\n",
       "      <td>0</td>\n",
       "      <td>0</td>\n",
       "      <td>0</td>\n",
       "      <td>0</td>\n",
       "      <td>0</td>\n",
       "    </tr>\n",
       "    <tr>\n",
       "      <th>421176</th>\n",
       "      <td>2</td>\n",
       "      <td>8</td>\n",
       "      <td>6</td>\n",
       "      <td>1757.0</td>\n",
       "      <td>594.0</td>\n",
       "      <td>0</td>\n",
       "      <td>0</td>\n",
       "      <td>0</td>\n",
       "      <td>0</td>\n",
       "      <td>0</td>\n",
       "      <td>...</td>\n",
       "      <td>0</td>\n",
       "      <td>0</td>\n",
       "      <td>0</td>\n",
       "      <td>0</td>\n",
       "      <td>0</td>\n",
       "      <td>0</td>\n",
       "      <td>0</td>\n",
       "      <td>0</td>\n",
       "      <td>0</td>\n",
       "      <td>0</td>\n",
       "    </tr>\n",
       "    <tr>\n",
       "      <th>...</th>\n",
       "      <td>...</td>\n",
       "      <td>...</td>\n",
       "      <td>...</td>\n",
       "      <td>...</td>\n",
       "      <td>...</td>\n",
       "      <td>...</td>\n",
       "      <td>...</td>\n",
       "      <td>...</td>\n",
       "      <td>...</td>\n",
       "      <td>...</td>\n",
       "      <td>...</td>\n",
       "      <td>...</td>\n",
       "      <td>...</td>\n",
       "      <td>...</td>\n",
       "      <td>...</td>\n",
       "      <td>...</td>\n",
       "      <td>...</td>\n",
       "      <td>...</td>\n",
       "      <td>...</td>\n",
       "      <td>...</td>\n",
       "      <td>...</td>\n",
       "    </tr>\n",
       "    <tr>\n",
       "      <th>508538</th>\n",
       "      <td>2</td>\n",
       "      <td>24</td>\n",
       "      <td>1</td>\n",
       "      <td>2045.0</td>\n",
       "      <td>300.0</td>\n",
       "      <td>0</td>\n",
       "      <td>0</td>\n",
       "      <td>0</td>\n",
       "      <td>0</td>\n",
       "      <td>0</td>\n",
       "      <td>...</td>\n",
       "      <td>0</td>\n",
       "      <td>0</td>\n",
       "      <td>0</td>\n",
       "      <td>0</td>\n",
       "      <td>0</td>\n",
       "      <td>0</td>\n",
       "      <td>0</td>\n",
       "      <td>0</td>\n",
       "      <td>0</td>\n",
       "      <td>0</td>\n",
       "    </tr>\n",
       "    <tr>\n",
       "      <th>62179</th>\n",
       "      <td>2</td>\n",
       "      <td>4</td>\n",
       "      <td>2</td>\n",
       "      <td>1302.0</td>\n",
       "      <td>623.0</td>\n",
       "      <td>0</td>\n",
       "      <td>0</td>\n",
       "      <td>0</td>\n",
       "      <td>0</td>\n",
       "      <td>0</td>\n",
       "      <td>...</td>\n",
       "      <td>0</td>\n",
       "      <td>0</td>\n",
       "      <td>0</td>\n",
       "      <td>0</td>\n",
       "      <td>0</td>\n",
       "      <td>0</td>\n",
       "      <td>0</td>\n",
       "      <td>0</td>\n",
       "      <td>0</td>\n",
       "      <td>0</td>\n",
       "    </tr>\n",
       "    <tr>\n",
       "      <th>120120</th>\n",
       "      <td>2</td>\n",
       "      <td>18</td>\n",
       "      <td>2</td>\n",
       "      <td>705.0</td>\n",
       "      <td>605.0</td>\n",
       "      <td>0</td>\n",
       "      <td>0</td>\n",
       "      <td>0</td>\n",
       "      <td>0</td>\n",
       "      <td>0</td>\n",
       "      <td>...</td>\n",
       "      <td>0</td>\n",
       "      <td>0</td>\n",
       "      <td>0</td>\n",
       "      <td>0</td>\n",
       "      <td>0</td>\n",
       "      <td>0</td>\n",
       "      <td>0</td>\n",
       "      <td>0</td>\n",
       "      <td>0</td>\n",
       "      <td>0</td>\n",
       "    </tr>\n",
       "    <tr>\n",
       "      <th>432545</th>\n",
       "      <td>2</td>\n",
       "      <td>20</td>\n",
       "      <td>4</td>\n",
       "      <td>649.0</td>\n",
       "      <td>184.0</td>\n",
       "      <td>0</td>\n",
       "      <td>0</td>\n",
       "      <td>0</td>\n",
       "      <td>0</td>\n",
       "      <td>0</td>\n",
       "      <td>...</td>\n",
       "      <td>0</td>\n",
       "      <td>0</td>\n",
       "      <td>0</td>\n",
       "      <td>0</td>\n",
       "      <td>0</td>\n",
       "      <td>0</td>\n",
       "      <td>0</td>\n",
       "      <td>0</td>\n",
       "      <td>0</td>\n",
       "      <td>0</td>\n",
       "    </tr>\n",
       "    <tr>\n",
       "      <th>215819</th>\n",
       "      <td>2</td>\n",
       "      <td>14</td>\n",
       "      <td>5</td>\n",
       "      <td>1439.0</td>\n",
       "      <td>323.0</td>\n",
       "      <td>0</td>\n",
       "      <td>0</td>\n",
       "      <td>0</td>\n",
       "      <td>0</td>\n",
       "      <td>0</td>\n",
       "      <td>...</td>\n",
       "      <td>0</td>\n",
       "      <td>0</td>\n",
       "      <td>0</td>\n",
       "      <td>0</td>\n",
       "      <td>0</td>\n",
       "      <td>0</td>\n",
       "      <td>0</td>\n",
       "      <td>0</td>\n",
       "      <td>0</td>\n",
       "      <td>0</td>\n",
       "    </tr>\n",
       "  </tbody>\n",
       "</table>\n",
       "<p>426987 rows × 37 columns</p>\n",
       "</div>"
      ],
      "text/plain": [
       "        MONTH  DAY_OF_MONTH  DAY_OF_WEEK  DEP_TIME  DISTANCE  \\\n",
       "54244       2            24            1    1856.0     833.0   \n",
       "256362      2            22            6     458.0     639.0   \n",
       "153314      2            18            2    2327.0    1062.0   \n",
       "475238      2             7            5    1422.0    1235.0   \n",
       "421176      2             8            6    1757.0     594.0   \n",
       "...       ...           ...          ...       ...       ...   \n",
       "508538      2            24            1    2045.0     300.0   \n",
       "62179       2             4            2    1302.0     623.0   \n",
       "120120      2            18            2     705.0     605.0   \n",
       "432545      2            20            4     649.0     184.0   \n",
       "215819      2            14            5    1439.0     323.0   \n",
       "\n",
       "        OP_UNIQUE_CARRIER_MQ  OP_UNIQUE_CARRIER_YV  OP_UNIQUE_CARRIER_OH  \\\n",
       "54244                      0                     0                     0   \n",
       "256362                     0                     0                     0   \n",
       "153314                     0                     0                     0   \n",
       "475238                     0                     0                     0   \n",
       "421176                     0                     0                     0   \n",
       "...                      ...                   ...                   ...   \n",
       "508538                     0                     0                     0   \n",
       "62179                      0                     0                     0   \n",
       "120120                     0                     0                     0   \n",
       "432545                     0                     0                     0   \n",
       "215819                     0                     0                     0   \n",
       "\n",
       "        OP_UNIQUE_CARRIER_HA  OP_UNIQUE_CARRIER_AA  ...  ORIGIN_PHX  \\\n",
       "54244                      0                     0  ...           0   \n",
       "256362                     0                     0  ...           0   \n",
       "153314                     0                     0  ...           0   \n",
       "475238                     0                     0  ...           0   \n",
       "421176                     0                     0  ...           0   \n",
       "...                      ...                   ...  ...         ...   \n",
       "508538                     0                     0  ...           0   \n",
       "62179                      0                     0  ...           0   \n",
       "120120                     0                     0  ...           0   \n",
       "432545                     0                     0  ...           0   \n",
       "215819                     0                     0  ...           0   \n",
       "\n",
       "        ORIGIN_IAH  DEST_ATL  DEST_ORD  DEST_DFW  DEST_DEN  DEST_CLT  \\\n",
       "54244            0         0         0         0         0         0   \n",
       "256362           0         0         0         0         1         0   \n",
       "153314           0         0         0         0         0         0   \n",
       "475238           0         0         0         0         0         0   \n",
       "421176           0         0         0         0         0         0   \n",
       "...            ...       ...       ...       ...       ...       ...   \n",
       "508538           0         0         0         0         0         0   \n",
       "62179            0         0         0         0         0         0   \n",
       "120120           0         0         0         0         0         0   \n",
       "432545           0         0         0         0         0         0   \n",
       "215819           0         0         0         0         0         0   \n",
       "\n",
       "        DEST_LAX  DEST_PHX  DEST_IAH  \n",
       "54244          0         1         0  \n",
       "256362         0         0         0  \n",
       "153314         0         0         0  \n",
       "475238         0         0         0  \n",
       "421176         0         0         0  \n",
       "...          ...       ...       ...  \n",
       "508538         0         0         0  \n",
       "62179          0         0         0  \n",
       "120120         0         0         0  \n",
       "432545         0         0         0  \n",
       "215819         0         0         0  \n",
       "\n",
       "[426987 rows x 37 columns]"
      ]
     },
     "execution_count": 28,
     "metadata": {},
     "output_type": "execute_result"
    }
   ],
   "source": [
    "X_train"
   ]
  },
  {
   "cell_type": "code",
   "execution_count": 29,
   "id": "59cd5919",
   "metadata": {},
   "outputs": [
    {
     "data": {
      "text/html": [
       "<div>\n",
       "<style scoped>\n",
       "    .dataframe tbody tr th:only-of-type {\n",
       "        vertical-align: middle;\n",
       "    }\n",
       "\n",
       "    .dataframe tbody tr th {\n",
       "        vertical-align: top;\n",
       "    }\n",
       "\n",
       "    .dataframe thead th {\n",
       "        text-align: right;\n",
       "    }\n",
       "</style>\n",
       "<table border=\"1\" class=\"dataframe\">\n",
       "  <thead>\n",
       "    <tr style=\"text-align: right;\">\n",
       "      <th></th>\n",
       "      <th>MONTH</th>\n",
       "      <th>DAY_OF_MONTH</th>\n",
       "      <th>DAY_OF_WEEK</th>\n",
       "      <th>DEP_TIME</th>\n",
       "      <th>DISTANCE</th>\n",
       "      <th>OP_UNIQUE_CARRIER_MQ</th>\n",
       "      <th>OP_UNIQUE_CARRIER_YV</th>\n",
       "      <th>OP_UNIQUE_CARRIER_OH</th>\n",
       "      <th>OP_UNIQUE_CARRIER_HA</th>\n",
       "      <th>OP_UNIQUE_CARRIER_AA</th>\n",
       "      <th>...</th>\n",
       "      <th>ORIGIN_PHX</th>\n",
       "      <th>ORIGIN_IAH</th>\n",
       "      <th>DEST_ATL</th>\n",
       "      <th>DEST_ORD</th>\n",
       "      <th>DEST_DFW</th>\n",
       "      <th>DEST_DEN</th>\n",
       "      <th>DEST_CLT</th>\n",
       "      <th>DEST_LAX</th>\n",
       "      <th>DEST_PHX</th>\n",
       "      <th>DEST_IAH</th>\n",
       "    </tr>\n",
       "  </thead>\n",
       "  <tbody>\n",
       "    <tr>\n",
       "      <th>418725</th>\n",
       "      <td>2</td>\n",
       "      <td>7</td>\n",
       "      <td>5</td>\n",
       "      <td>1247.0</td>\n",
       "      <td>1947.0</td>\n",
       "      <td>0</td>\n",
       "      <td>0</td>\n",
       "      <td>0</td>\n",
       "      <td>0</td>\n",
       "      <td>0</td>\n",
       "      <td>...</td>\n",
       "      <td>0</td>\n",
       "      <td>0</td>\n",
       "      <td>0</td>\n",
       "      <td>0</td>\n",
       "      <td>0</td>\n",
       "      <td>0</td>\n",
       "      <td>0</td>\n",
       "      <td>1</td>\n",
       "      <td>0</td>\n",
       "      <td>0</td>\n",
       "    </tr>\n",
       "    <tr>\n",
       "      <th>144623</th>\n",
       "      <td>2</td>\n",
       "      <td>8</td>\n",
       "      <td>6</td>\n",
       "      <td>718.0</td>\n",
       "      <td>1041.0</td>\n",
       "      <td>0</td>\n",
       "      <td>0</td>\n",
       "      <td>0</td>\n",
       "      <td>0</td>\n",
       "      <td>0</td>\n",
       "      <td>...</td>\n",
       "      <td>0</td>\n",
       "      <td>0</td>\n",
       "      <td>0</td>\n",
       "      <td>0</td>\n",
       "      <td>0</td>\n",
       "      <td>0</td>\n",
       "      <td>0</td>\n",
       "      <td>0</td>\n",
       "      <td>0</td>\n",
       "      <td>0</td>\n",
       "    </tr>\n",
       "    <tr>\n",
       "      <th>261111</th>\n",
       "      <td>2</td>\n",
       "      <td>18</td>\n",
       "      <td>2</td>\n",
       "      <td>1534.0</td>\n",
       "      <td>748.0</td>\n",
       "      <td>0</td>\n",
       "      <td>0</td>\n",
       "      <td>0</td>\n",
       "      <td>0</td>\n",
       "      <td>0</td>\n",
       "      <td>...</td>\n",
       "      <td>0</td>\n",
       "      <td>0</td>\n",
       "      <td>0</td>\n",
       "      <td>0</td>\n",
       "      <td>0</td>\n",
       "      <td>0</td>\n",
       "      <td>0</td>\n",
       "      <td>0</td>\n",
       "      <td>0</td>\n",
       "      <td>0</td>\n",
       "    </tr>\n",
       "    <tr>\n",
       "      <th>454130</th>\n",
       "      <td>2</td>\n",
       "      <td>27</td>\n",
       "      <td>4</td>\n",
       "      <td>841.0</td>\n",
       "      <td>100.0</td>\n",
       "      <td>0</td>\n",
       "      <td>0</td>\n",
       "      <td>0</td>\n",
       "      <td>1</td>\n",
       "      <td>0</td>\n",
       "      <td>...</td>\n",
       "      <td>0</td>\n",
       "      <td>0</td>\n",
       "      <td>0</td>\n",
       "      <td>0</td>\n",
       "      <td>0</td>\n",
       "      <td>0</td>\n",
       "      <td>0</td>\n",
       "      <td>0</td>\n",
       "      <td>0</td>\n",
       "      <td>0</td>\n",
       "    </tr>\n",
       "    <tr>\n",
       "      <th>70742</th>\n",
       "      <td>2</td>\n",
       "      <td>23</td>\n",
       "      <td>7</td>\n",
       "      <td>2248.0</td>\n",
       "      <td>587.0</td>\n",
       "      <td>0</td>\n",
       "      <td>0</td>\n",
       "      <td>0</td>\n",
       "      <td>0</td>\n",
       "      <td>0</td>\n",
       "      <td>...</td>\n",
       "      <td>0</td>\n",
       "      <td>0</td>\n",
       "      <td>0</td>\n",
       "      <td>0</td>\n",
       "      <td>0</td>\n",
       "      <td>0</td>\n",
       "      <td>0</td>\n",
       "      <td>0</td>\n",
       "      <td>0</td>\n",
       "      <td>0</td>\n",
       "    </tr>\n",
       "    <tr>\n",
       "      <th>...</th>\n",
       "      <td>...</td>\n",
       "      <td>...</td>\n",
       "      <td>...</td>\n",
       "      <td>...</td>\n",
       "      <td>...</td>\n",
       "      <td>...</td>\n",
       "      <td>...</td>\n",
       "      <td>...</td>\n",
       "      <td>...</td>\n",
       "      <td>...</td>\n",
       "      <td>...</td>\n",
       "      <td>...</td>\n",
       "      <td>...</td>\n",
       "      <td>...</td>\n",
       "      <td>...</td>\n",
       "      <td>...</td>\n",
       "      <td>...</td>\n",
       "      <td>...</td>\n",
       "      <td>...</td>\n",
       "      <td>...</td>\n",
       "      <td>...</td>\n",
       "    </tr>\n",
       "    <tr>\n",
       "      <th>115920</th>\n",
       "      <td>2</td>\n",
       "      <td>16</td>\n",
       "      <td>7</td>\n",
       "      <td>1602.0</td>\n",
       "      <td>150.0</td>\n",
       "      <td>0</td>\n",
       "      <td>0</td>\n",
       "      <td>0</td>\n",
       "      <td>0</td>\n",
       "      <td>0</td>\n",
       "      <td>...</td>\n",
       "      <td>0</td>\n",
       "      <td>0</td>\n",
       "      <td>0</td>\n",
       "      <td>0</td>\n",
       "      <td>0</td>\n",
       "      <td>0</td>\n",
       "      <td>0</td>\n",
       "      <td>0</td>\n",
       "      <td>0</td>\n",
       "      <td>0</td>\n",
       "    </tr>\n",
       "    <tr>\n",
       "      <th>565311</th>\n",
       "      <td>2</td>\n",
       "      <td>5</td>\n",
       "      <td>3</td>\n",
       "      <td>931.0</td>\n",
       "      <td>1156.0</td>\n",
       "      <td>0</td>\n",
       "      <td>0</td>\n",
       "      <td>0</td>\n",
       "      <td>0</td>\n",
       "      <td>0</td>\n",
       "      <td>...</td>\n",
       "      <td>0</td>\n",
       "      <td>0</td>\n",
       "      <td>0</td>\n",
       "      <td>0</td>\n",
       "      <td>0</td>\n",
       "      <td>0</td>\n",
       "      <td>0</td>\n",
       "      <td>0</td>\n",
       "      <td>0</td>\n",
       "      <td>0</td>\n",
       "    </tr>\n",
       "    <tr>\n",
       "      <th>762</th>\n",
       "      <td>2</td>\n",
       "      <td>17</td>\n",
       "      <td>1</td>\n",
       "      <td>553.0</td>\n",
       "      <td>868.0</td>\n",
       "      <td>1</td>\n",
       "      <td>0</td>\n",
       "      <td>0</td>\n",
       "      <td>0</td>\n",
       "      <td>0</td>\n",
       "      <td>...</td>\n",
       "      <td>0</td>\n",
       "      <td>0</td>\n",
       "      <td>0</td>\n",
       "      <td>0</td>\n",
       "      <td>1</td>\n",
       "      <td>0</td>\n",
       "      <td>0</td>\n",
       "      <td>0</td>\n",
       "      <td>0</td>\n",
       "      <td>0</td>\n",
       "    </tr>\n",
       "    <tr>\n",
       "      <th>359752</th>\n",
       "      <td>2</td>\n",
       "      <td>16</td>\n",
       "      <td>7</td>\n",
       "      <td>1123.0</td>\n",
       "      <td>1381.0</td>\n",
       "      <td>0</td>\n",
       "      <td>0</td>\n",
       "      <td>0</td>\n",
       "      <td>0</td>\n",
       "      <td>0</td>\n",
       "      <td>...</td>\n",
       "      <td>0</td>\n",
       "      <td>0</td>\n",
       "      <td>0</td>\n",
       "      <td>0</td>\n",
       "      <td>0</td>\n",
       "      <td>0</td>\n",
       "      <td>0</td>\n",
       "      <td>0</td>\n",
       "      <td>0</td>\n",
       "      <td>0</td>\n",
       "    </tr>\n",
       "    <tr>\n",
       "      <th>158652</th>\n",
       "      <td>2</td>\n",
       "      <td>1</td>\n",
       "      <td>6</td>\n",
       "      <td>1022.0</td>\n",
       "      <td>507.0</td>\n",
       "      <td>0</td>\n",
       "      <td>0</td>\n",
       "      <td>1</td>\n",
       "      <td>0</td>\n",
       "      <td>0</td>\n",
       "      <td>...</td>\n",
       "      <td>0</td>\n",
       "      <td>0</td>\n",
       "      <td>0</td>\n",
       "      <td>0</td>\n",
       "      <td>0</td>\n",
       "      <td>0</td>\n",
       "      <td>0</td>\n",
       "      <td>0</td>\n",
       "      <td>0</td>\n",
       "      <td>0</td>\n",
       "    </tr>\n",
       "  </tbody>\n",
       "</table>\n",
       "<p>142330 rows × 37 columns</p>\n",
       "</div>"
      ],
      "text/plain": [
       "        MONTH  DAY_OF_MONTH  DAY_OF_WEEK  DEP_TIME  DISTANCE  \\\n",
       "418725      2             7            5    1247.0    1947.0   \n",
       "144623      2             8            6     718.0    1041.0   \n",
       "261111      2            18            2    1534.0     748.0   \n",
       "454130      2            27            4     841.0     100.0   \n",
       "70742       2            23            7    2248.0     587.0   \n",
       "...       ...           ...          ...       ...       ...   \n",
       "115920      2            16            7    1602.0     150.0   \n",
       "565311      2             5            3     931.0    1156.0   \n",
       "762         2            17            1     553.0     868.0   \n",
       "359752      2            16            7    1123.0    1381.0   \n",
       "158652      2             1            6    1022.0     507.0   \n",
       "\n",
       "        OP_UNIQUE_CARRIER_MQ  OP_UNIQUE_CARRIER_YV  OP_UNIQUE_CARRIER_OH  \\\n",
       "418725                     0                     0                     0   \n",
       "144623                     0                     0                     0   \n",
       "261111                     0                     0                     0   \n",
       "454130                     0                     0                     0   \n",
       "70742                      0                     0                     0   \n",
       "...                      ...                   ...                   ...   \n",
       "115920                     0                     0                     0   \n",
       "565311                     0                     0                     0   \n",
       "762                        1                     0                     0   \n",
       "359752                     0                     0                     0   \n",
       "158652                     0                     0                     1   \n",
       "\n",
       "        OP_UNIQUE_CARRIER_HA  OP_UNIQUE_CARRIER_AA  ...  ORIGIN_PHX  \\\n",
       "418725                     0                     0  ...           0   \n",
       "144623                     0                     0  ...           0   \n",
       "261111                     0                     0  ...           0   \n",
       "454130                     1                     0  ...           0   \n",
       "70742                      0                     0  ...           0   \n",
       "...                      ...                   ...  ...         ...   \n",
       "115920                     0                     0  ...           0   \n",
       "565311                     0                     0  ...           0   \n",
       "762                        0                     0  ...           0   \n",
       "359752                     0                     0  ...           0   \n",
       "158652                     0                     0  ...           0   \n",
       "\n",
       "        ORIGIN_IAH  DEST_ATL  DEST_ORD  DEST_DFW  DEST_DEN  DEST_CLT  \\\n",
       "418725           0         0         0         0         0         0   \n",
       "144623           0         0         0         0         0         0   \n",
       "261111           0         0         0         0         0         0   \n",
       "454130           0         0         0         0         0         0   \n",
       "70742            0         0         0         0         0         0   \n",
       "...            ...       ...       ...       ...       ...       ...   \n",
       "115920           0         0         0         0         0         0   \n",
       "565311           0         0         0         0         0         0   \n",
       "762              0         0         0         1         0         0   \n",
       "359752           0         0         0         0         0         0   \n",
       "158652           0         0         0         0         0         0   \n",
       "\n",
       "        DEST_LAX  DEST_PHX  DEST_IAH  \n",
       "418725         1         0         0  \n",
       "144623         0         0         0  \n",
       "261111         0         0         0  \n",
       "454130         0         0         0  \n",
       "70742          0         0         0  \n",
       "...          ...       ...       ...  \n",
       "115920         0         0         0  \n",
       "565311         0         0         0  \n",
       "762            0         0         0  \n",
       "359752         0         0         0  \n",
       "158652         0         0         0  \n",
       "\n",
       "[142330 rows x 37 columns]"
      ]
     },
     "execution_count": 29,
     "metadata": {},
     "output_type": "execute_result"
    }
   ],
   "source": [
    "X_test"
   ]
  },
  {
   "cell_type": "code",
   "execution_count": 30,
   "id": "e613df68",
   "metadata": {},
   "outputs": [
    {
     "data": {
      "text/plain": [
       "54244     0.0\n",
       "256362    0.0\n",
       "153314    1.0\n",
       "475238    1.0\n",
       "421176    0.0\n",
       "         ... \n",
       "508538    0.0\n",
       "62179     0.0\n",
       "120120    0.0\n",
       "432545    0.0\n",
       "215819    0.0\n",
       "Name: DEP_DEL15, Length: 426987, dtype: float64"
      ]
     },
     "execution_count": 30,
     "metadata": {},
     "output_type": "execute_result"
    }
   ],
   "source": [
    "y_train"
   ]
  },
  {
   "cell_type": "code",
   "execution_count": 31,
   "id": "9d39edd2",
   "metadata": {},
   "outputs": [
    {
     "data": {
      "text/plain": [
       "418725    1.0\n",
       "144623    0.0\n",
       "261111    0.0\n",
       "454130    0.0\n",
       "70742     0.0\n",
       "         ... \n",
       "115920    1.0\n",
       "565311    0.0\n",
       "762       0.0\n",
       "359752    0.0\n",
       "158652    0.0\n",
       "Name: DEP_DEL15, Length: 142330, dtype: float64"
      ]
     },
     "execution_count": 31,
     "metadata": {},
     "output_type": "execute_result"
    }
   ],
   "source": [
    "y_test"
   ]
  },
  {
   "cell_type": "code",
   "execution_count": 32,
   "id": "4f2778eb",
   "metadata": {},
   "outputs": [],
   "source": [
    "from sklearn.metrics import classification_report,confusion_matrix"
   ]
  },
  {
   "cell_type": "code",
   "execution_count": 33,
   "id": "fc369663",
   "metadata": {},
   "outputs": [
    {
     "data": {
      "text/plain": [
       "RandomForestClassifier()"
      ]
     },
     "execution_count": 33,
     "metadata": {},
     "output_type": "execute_result"
    }
   ],
   "source": [
    "model.fit(X_train,y_train)"
   ]
  },
  {
   "cell_type": "code",
   "execution_count": 34,
   "id": "44ce0bf7",
   "metadata": {},
   "outputs": [],
   "source": [
    "predictions = model.predict(X_test)"
   ]
  },
  {
   "cell_type": "code",
   "execution_count": 35,
   "id": "fb0872d6",
   "metadata": {},
   "outputs": [
    {
     "data": {
      "text/plain": [
       "array([1., 0., 0., ..., 0., 0., 0.])"
      ]
     },
     "execution_count": 35,
     "metadata": {},
     "output_type": "execute_result"
    }
   ],
   "source": [
    "predictions"
   ]
  },
  {
   "cell_type": "code",
   "execution_count": 36,
   "id": "aa58f7b5",
   "metadata": {},
   "outputs": [
    {
     "name": "stdout",
     "output_type": "stream",
     "text": [
      "[[118220   3612]\n",
      " [ 15375   5123]]\n",
      "\n",
      "\n",
      "              precision    recall  f1-score   support\n",
      "\n",
      "         0.0       0.88      0.97      0.93    121832\n",
      "         1.0       0.59      0.25      0.35     20498\n",
      "\n",
      "    accuracy                           0.87    142330\n",
      "   macro avg       0.74      0.61      0.64    142330\n",
      "weighted avg       0.84      0.87      0.84    142330\n",
      "\n"
     ]
    }
   ],
   "source": [
    "print(confusion_matrix(y_test,predictions))\n",
    "print('\\n')\n",
    "print(classification_report(y_test,predictions))"
   ]
  },
  {
   "cell_type": "markdown",
   "id": "852531c8",
   "metadata": {},
   "source": [
    "#### The above is the confusion matrix for Random Forest Classifier algorithm. The Accuracy of this model using Random Forest Classifier is 0.87"
   ]
  },
  {
   "cell_type": "code",
   "execution_count": 37,
   "id": "3682ecee",
   "metadata": {},
   "outputs": [],
   "source": [
    "from sklearn.tree import DecisionTreeClassifier"
   ]
  },
  {
   "cell_type": "code",
   "execution_count": 38,
   "id": "dbb36c26",
   "metadata": {},
   "outputs": [],
   "source": [
    "deci_class = DecisionTreeClassifier()"
   ]
  },
  {
   "cell_type": "code",
   "execution_count": 39,
   "id": "aa5c4258",
   "metadata": {},
   "outputs": [
    {
     "data": {
      "text/plain": [
       "DecisionTreeClassifier()"
      ]
     },
     "execution_count": 39,
     "metadata": {},
     "output_type": "execute_result"
    }
   ],
   "source": [
    "deci_class.fit(X_train,y_train)"
   ]
  },
  {
   "cell_type": "code",
   "execution_count": 40,
   "id": "ebffeeda",
   "metadata": {},
   "outputs": [],
   "source": [
    "preds_deci_class = deci_class.predict(X_test)"
   ]
  },
  {
   "cell_type": "code",
   "execution_count": 41,
   "id": "5d1391ba",
   "metadata": {},
   "outputs": [
    {
     "name": "stdout",
     "output_type": "stream",
     "text": [
      "[[109044  12788]\n",
      " [ 12835   7663]]\n",
      "\n",
      "\n",
      "              precision    recall  f1-score   support\n",
      "\n",
      "         0.0       0.89      0.90      0.89    121832\n",
      "         1.0       0.37      0.37      0.37     20498\n",
      "\n",
      "    accuracy                           0.82    142330\n",
      "   macro avg       0.63      0.63      0.63    142330\n",
      "weighted avg       0.82      0.82      0.82    142330\n",
      "\n"
     ]
    }
   ],
   "source": [
    "print(confusion_matrix(y_test,preds_deci_class))\n",
    "print('\\n')\n",
    "print(classification_report(y_test,preds_deci_class))"
   ]
  },
  {
   "cell_type": "markdown",
   "id": "fa4530f1",
   "metadata": {},
   "source": [
    "#### The above is the confusion matrix for Decision Tree Classifier algorithm. The Accuracy of this model using Decision Tree Classifier is 0.82"
   ]
  },
  {
   "cell_type": "code",
   "execution_count": 42,
   "id": "ee156009",
   "metadata": {},
   "outputs": [],
   "source": [
    "from sklearn.linear_model import LogisticRegression"
   ]
  },
  {
   "cell_type": "code",
   "execution_count": 43,
   "id": "8f2e8ba9",
   "metadata": {},
   "outputs": [],
   "source": [
    "logi = LogisticRegression()"
   ]
  },
  {
   "cell_type": "code",
   "execution_count": 44,
   "id": "5091c662",
   "metadata": {},
   "outputs": [
    {
     "name": "stderr",
     "output_type": "stream",
     "text": [
      "C:\\Users\\Sakshi Joshi\\anaconda3\\lib\\site-packages\\sklearn\\linear_model\\_logistic.py:763: ConvergenceWarning: lbfgs failed to converge (status=1):\n",
      "STOP: TOTAL NO. of ITERATIONS REACHED LIMIT.\n",
      "\n",
      "Increase the number of iterations (max_iter) or scale the data as shown in:\n",
      "    https://scikit-learn.org/stable/modules/preprocessing.html\n",
      "Please also refer to the documentation for alternative solver options:\n",
      "    https://scikit-learn.org/stable/modules/linear_model.html#logistic-regression\n",
      "  n_iter_i = _check_optimize_result(\n"
     ]
    },
    {
     "data": {
      "text/plain": [
       "LogisticRegression()"
      ]
     },
     "execution_count": 44,
     "metadata": {},
     "output_type": "execute_result"
    }
   ],
   "source": [
    "logi.fit(X_train,y_train)"
   ]
  },
  {
   "cell_type": "code",
   "execution_count": 45,
   "id": "7b5d3523",
   "metadata": {},
   "outputs": [],
   "source": [
    "logi_preds = logi.predict(X_test)"
   ]
  },
  {
   "cell_type": "code",
   "execution_count": 46,
   "id": "57364f95",
   "metadata": {},
   "outputs": [
    {
     "name": "stdout",
     "output_type": "stream",
     "text": [
      "[[121825      7]\n",
      " [ 20481     17]]\n",
      "\n",
      "\n",
      "              precision    recall  f1-score   support\n",
      "\n",
      "         0.0       0.86      1.00      0.92    121832\n",
      "         1.0       0.71      0.00      0.00     20498\n",
      "\n",
      "    accuracy                           0.86    142330\n",
      "   macro avg       0.78      0.50      0.46    142330\n",
      "weighted avg       0.83      0.86      0.79    142330\n",
      "\n"
     ]
    }
   ],
   "source": [
    "print(confusion_matrix(y_test,logi_preds))\n",
    "print('\\n')\n",
    "print(classification_report(y_test,logi_preds))"
   ]
  },
  {
   "cell_type": "markdown",
   "id": "9ddf903b",
   "metadata": {},
   "source": [
    "#### The above is the confusion matrix for Logistic Regression algorithm. The Accuracy of this model using Logistic Regression is 0.86\n"
   ]
  },
  {
   "cell_type": "markdown",
   "id": "446d40bb",
   "metadata": {},
   "source": [
    "### Conclusion:\n",
    "\n",
    "Hence, by comparing the accuracy of this algorithm we can say that Random Forest Classifier gives us the best predictions.\n",
    "\n",
    "Note: This predictions can be used be for predicting the flight delays in february of the next year. "
   ]
  }
 ],
 "metadata": {
  "kernelspec": {
   "display_name": "Python 3 (ipykernel)",
   "language": "python",
   "name": "python3"
  },
  "language_info": {
   "codemirror_mode": {
    "name": "ipython",
    "version": 3
   },
   "file_extension": ".py",
   "mimetype": "text/x-python",
   "name": "python",
   "nbconvert_exporter": "python",
   "pygments_lexer": "ipython3",
   "version": "3.9.12"
  }
 },
 "nbformat": 4,
 "nbformat_minor": 5
}
